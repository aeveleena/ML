{
 "cells": [
  {
   "metadata": {},
   "cell_type": "markdown",
   "source": "### Исследование алгоритмов классификации. kNN/Decision Tree",
   "id": "34ed1415a66855bc"
  },
  {
   "cell_type": "code",
   "id": "initial_id",
   "metadata": {
    "collapsed": true,
    "ExecuteTime": {
     "end_time": "2024-12-15T17:28:55.326199Z",
     "start_time": "2024-12-15T17:28:55.322773Z"
    }
   },
   "source": [
    "import pandas as pd\n",
    "import matplotlib.pyplot as plt\n",
    "import seaborn as sns\n",
    "\n",
    "from sklearn.model_selection import train_test_split\n",
    "from sklearn.neighbors import KNeighborsClassifier\n",
    "from sklearn.tree import DecisionTreeClassifier\n",
    "from sklearn.metrics import (\n",
    "    confusion_matrix, accuracy_score, roc_auc_score,\n",
    "    precision_score, recall_score, f1_score\n",
    ")"
   ],
   "outputs": [],
   "execution_count": 53
  },
  {
   "metadata": {
    "ExecuteTime": {
     "end_time": "2024-12-15T17:28:55.404442Z",
     "start_time": "2024-12-15T17:28:55.387226Z"
    }
   },
   "cell_type": "code",
   "source": [
    "df = pd.read_csv('data/clean.csv')\n",
    "df.sample(5)"
   ],
   "id": "185b45a427d89c1a",
   "outputs": [
    {
     "data": {
      "text/plain": [
       "      battery_power  blue  clock_speed  dual_sim  fc  four_g  int_memory  \\\n",
       "1856           1786     0          2.6         0   6       0          14   \n",
       "1272           1174     0          0.7         1   1       1          25   \n",
       "1979           1614     0          1.2         0   1       1           9   \n",
       "1353           1436     0          2.5         1   0       1          42   \n",
       "186            1266     0          0.5         0   0       1           5   \n",
       "\n",
       "      m_dep  mobile_wt  n_cores  ...  px_height  px_width   ram  sc_h  sc_w  \\\n",
       "1856    1.0        115        4  ...        616       912  3038    18     0   \n",
       "1272    0.8         91        2  ...       1097      1461   285    19     7   \n",
       "1979    0.1        161        3  ...        173      1219  1832    15     8   \n",
       "1353    0.9        124        8  ...       1826      1836  2736    12     5   \n",
       "186     0.1         95        6  ...       1365      1698  1687    11     0   \n",
       "\n",
       "      talk_time  three_g  touch_screen  wifi  price_range  \n",
       "1856         14        1             0     0            3  \n",
       "1272          3        1             0     1            0  \n",
       "1979         11        1             0     0            1  \n",
       "1353         19        1             1     0            3  \n",
       "186          18        1             0     0            2  \n",
       "\n",
       "[5 rows x 21 columns]"
      ],
      "text/html": [
       "<div>\n",
       "<style scoped>\n",
       "    .dataframe tbody tr th:only-of-type {\n",
       "        vertical-align: middle;\n",
       "    }\n",
       "\n",
       "    .dataframe tbody tr th {\n",
       "        vertical-align: top;\n",
       "    }\n",
       "\n",
       "    .dataframe thead th {\n",
       "        text-align: right;\n",
       "    }\n",
       "</style>\n",
       "<table border=\"1\" class=\"dataframe\">\n",
       "  <thead>\n",
       "    <tr style=\"text-align: right;\">\n",
       "      <th></th>\n",
       "      <th>battery_power</th>\n",
       "      <th>blue</th>\n",
       "      <th>clock_speed</th>\n",
       "      <th>dual_sim</th>\n",
       "      <th>fc</th>\n",
       "      <th>four_g</th>\n",
       "      <th>int_memory</th>\n",
       "      <th>m_dep</th>\n",
       "      <th>mobile_wt</th>\n",
       "      <th>n_cores</th>\n",
       "      <th>...</th>\n",
       "      <th>px_height</th>\n",
       "      <th>px_width</th>\n",
       "      <th>ram</th>\n",
       "      <th>sc_h</th>\n",
       "      <th>sc_w</th>\n",
       "      <th>talk_time</th>\n",
       "      <th>three_g</th>\n",
       "      <th>touch_screen</th>\n",
       "      <th>wifi</th>\n",
       "      <th>price_range</th>\n",
       "    </tr>\n",
       "  </thead>\n",
       "  <tbody>\n",
       "    <tr>\n",
       "      <th>1856</th>\n",
       "      <td>1786</td>\n",
       "      <td>0</td>\n",
       "      <td>2.6</td>\n",
       "      <td>0</td>\n",
       "      <td>6</td>\n",
       "      <td>0</td>\n",
       "      <td>14</td>\n",
       "      <td>1.0</td>\n",
       "      <td>115</td>\n",
       "      <td>4</td>\n",
       "      <td>...</td>\n",
       "      <td>616</td>\n",
       "      <td>912</td>\n",
       "      <td>3038</td>\n",
       "      <td>18</td>\n",
       "      <td>0</td>\n",
       "      <td>14</td>\n",
       "      <td>1</td>\n",
       "      <td>0</td>\n",
       "      <td>0</td>\n",
       "      <td>3</td>\n",
       "    </tr>\n",
       "    <tr>\n",
       "      <th>1272</th>\n",
       "      <td>1174</td>\n",
       "      <td>0</td>\n",
       "      <td>0.7</td>\n",
       "      <td>1</td>\n",
       "      <td>1</td>\n",
       "      <td>1</td>\n",
       "      <td>25</td>\n",
       "      <td>0.8</td>\n",
       "      <td>91</td>\n",
       "      <td>2</td>\n",
       "      <td>...</td>\n",
       "      <td>1097</td>\n",
       "      <td>1461</td>\n",
       "      <td>285</td>\n",
       "      <td>19</td>\n",
       "      <td>7</td>\n",
       "      <td>3</td>\n",
       "      <td>1</td>\n",
       "      <td>0</td>\n",
       "      <td>1</td>\n",
       "      <td>0</td>\n",
       "    </tr>\n",
       "    <tr>\n",
       "      <th>1979</th>\n",
       "      <td>1614</td>\n",
       "      <td>0</td>\n",
       "      <td>1.2</td>\n",
       "      <td>0</td>\n",
       "      <td>1</td>\n",
       "      <td>1</td>\n",
       "      <td>9</td>\n",
       "      <td>0.1</td>\n",
       "      <td>161</td>\n",
       "      <td>3</td>\n",
       "      <td>...</td>\n",
       "      <td>173</td>\n",
       "      <td>1219</td>\n",
       "      <td>1832</td>\n",
       "      <td>15</td>\n",
       "      <td>8</td>\n",
       "      <td>11</td>\n",
       "      <td>1</td>\n",
       "      <td>0</td>\n",
       "      <td>0</td>\n",
       "      <td>1</td>\n",
       "    </tr>\n",
       "    <tr>\n",
       "      <th>1353</th>\n",
       "      <td>1436</td>\n",
       "      <td>0</td>\n",
       "      <td>2.5</td>\n",
       "      <td>1</td>\n",
       "      <td>0</td>\n",
       "      <td>1</td>\n",
       "      <td>42</td>\n",
       "      <td>0.9</td>\n",
       "      <td>124</td>\n",
       "      <td>8</td>\n",
       "      <td>...</td>\n",
       "      <td>1826</td>\n",
       "      <td>1836</td>\n",
       "      <td>2736</td>\n",
       "      <td>12</td>\n",
       "      <td>5</td>\n",
       "      <td>19</td>\n",
       "      <td>1</td>\n",
       "      <td>1</td>\n",
       "      <td>0</td>\n",
       "      <td>3</td>\n",
       "    </tr>\n",
       "    <tr>\n",
       "      <th>186</th>\n",
       "      <td>1266</td>\n",
       "      <td>0</td>\n",
       "      <td>0.5</td>\n",
       "      <td>0</td>\n",
       "      <td>0</td>\n",
       "      <td>1</td>\n",
       "      <td>5</td>\n",
       "      <td>0.1</td>\n",
       "      <td>95</td>\n",
       "      <td>6</td>\n",
       "      <td>...</td>\n",
       "      <td>1365</td>\n",
       "      <td>1698</td>\n",
       "      <td>1687</td>\n",
       "      <td>11</td>\n",
       "      <td>0</td>\n",
       "      <td>18</td>\n",
       "      <td>1</td>\n",
       "      <td>0</td>\n",
       "      <td>0</td>\n",
       "      <td>2</td>\n",
       "    </tr>\n",
       "  </tbody>\n",
       "</table>\n",
       "<p>5 rows × 21 columns</p>\n",
       "</div>"
      ]
     },
     "execution_count": 54,
     "metadata": {},
     "output_type": "execute_result"
    }
   ],
   "execution_count": 54
  },
  {
   "metadata": {},
   "cell_type": "markdown",
   "source": "### Класс-метка и сбалансированность",
   "id": "da35f2c89d224e45"
  },
  {
   "metadata": {
    "ExecuteTime": {
     "end_time": "2024-12-15T17:28:55.411513Z",
     "start_time": "2024-12-15T17:28:55.405448Z"
    }
   },
   "cell_type": "code",
   "source": [
    "target = 'price_range'\n",
    "df[target].value_counts()"
   ],
   "id": "c83021c715799858",
   "outputs": [
    {
     "data": {
      "text/plain": [
       "price_range\n",
       "1    500\n",
       "2    500\n",
       "3    500\n",
       "0    500\n",
       "Name: count, dtype: int64"
      ]
     },
     "execution_count": 55,
     "metadata": {},
     "output_type": "execute_result"
    }
   ],
   "execution_count": 55
  },
  {
   "metadata": {},
   "cell_type": "markdown",
   "source": "### Метод k-ближайших соседей",
   "id": "a69210e4a47874fc"
  },
  {
   "metadata": {
    "ExecuteTime": {
     "end_time": "2024-12-15T17:28:55.421656Z",
     "start_time": "2024-12-15T17:28:55.412519Z"
    }
   },
   "cell_type": "code",
   "source": [
    "# Разбиение на обучающую и тестовую выборки.\n",
    "x_train, x_test, y_train, y_test = train_test_split(\n",
    "    df.drop(target, axis=1), df[target], \n",
    "    test_size=0.2, random_state=0\n",
    ")"
   ],
   "id": "12bfe9ef9381588d",
   "outputs": [],
   "execution_count": 56
  },
  {
   "metadata": {
    "ExecuteTime": {
     "end_time": "2024-12-15T17:28:56.791598Z",
     "start_time": "2024-12-15T17:28:55.422663Z"
    }
   },
   "cell_type": "code",
   "source": [
    "# Подбор числа k.\n",
    "k_range = range(1, 30)\n",
    "scores = []\n",
    "for k in k_range:\n",
    "    knn = KNeighborsClassifier(n_neighbors=k)\n",
    "    knn.fit(x_train, y_train)\n",
    "    knn_pred = knn.predict(x_test)\n",
    "    score = accuracy_score(y_test, knn_pred)\n",
    "    scores.append(score)\n",
    "\n",
    "k = scores.index(max(scores)) + 1\n",
    "print('Лучший k:', k)\n",
    "\n",
    "plt.plot(k_range, scores, linestyle='dashed', marker='o')\n",
    "plt.xticks(k_range)\n",
    "plt.title(\"Score by k-value\")\n",
    "plt.show()"
   ],
   "id": "a9bd26c1ca5ceeb9",
   "outputs": [
    {
     "name": "stdout",
     "output_type": "stream",
     "text": [
      "Лучший k: 15\n"
     ]
    },
    {
     "data": {
      "text/plain": [
       "<Figure size 640x480 with 1 Axes>"
      ],
      "image/png": "[encoded data removed]"
     },
     "metadata": {},
     "output_type": "display_data"
    }
   ],
   "execution_count": 57
  },
  {
   "metadata": {
    "ExecuteTime": {
     "end_time": "2024-12-15T17:28:56.822897Z",
     "start_time": "2024-12-15T17:28:56.792607Z"
    }
   },
   "cell_type": "code",
   "source": [
    "# Обучение модели.\n",
    "knn = KNeighborsClassifier(n_neighbors=k)\n",
    "knn.fit(x_train, y_train)\n",
    "knn_pred = knn.predict(x_test)"
   ],
   "id": "6ba8081de95ca686",
   "outputs": [],
   "execution_count": 58
  },
  {
   "metadata": {
    "ExecuteTime": {
     "end_time": "2024-12-15T17:28:56.828455Z",
     "start_time": "2024-12-15T17:28:56.823903Z"
    }
   },
   "cell_type": "code",
   "source": [
    "def metrics(test, pred, proba):\n",
    "    \"\"\"Отображение метрик.\"\"\"\n",
    "    cm = confusion_matrix(test, pred)\n",
    "    sns.heatmap(cm, annot=True, cmap='coolwarm', cbar=False)\n",
    "    plt.xlabel('Модель')\n",
    "    plt.ylabel('Факт')\n",
    "    \n",
    "    df_metrics = pd.DataFrame({\n",
    "        'Metric': ['Accuracy', 'Precision', 'Recall', 'F1', 'ROC'],\n",
    "        'Score': [\n",
    "            round(accuracy_score(test, pred), 3),\n",
    "            round(precision_score(test, pred, average='weighted'), 3),\n",
    "            round(recall_score(test, pred, average='weighted'), 3),\n",
    "            round(f1_score(test, pred, average='weighted'), 3),\n",
    "            round(roc_auc_score(test, proba, average='weighted', multi_class='ovr'), 3)\n",
    "        ]\n",
    "    })\n",
    "    plt.show()\n",
    "    print(df_metrics.to_string(index=False))"
   ],
   "id": "e72825e1b0d322f0",
   "outputs": [],
   "execution_count": 59
  },
  {
   "metadata": {
    "ExecuteTime": {
     "end_time": "2024-12-15T17:28:56.946806Z",
     "start_time": "2024-12-15T17:28:56.829460Z"
    }
   },
   "cell_type": "code",
   "source": "metrics(y_test, knn_pred, knn.predict_proba(x_test))",
   "id": "ee8d738ac584d20a",
   "outputs": [
    {
     "data": {
      "text/plain": [
       "<Figure size 640x480 with 1 Axes>"
      ],
      "image/png": "[encoded data removed]"
     },
     "metadata": {},
     "output_type": "display_data"
    },
    {
     "name": "stdout",
     "output_type": "stream",
     "text": [
      "   Metric  Score\n",
      " Accuracy  0.955\n",
      "Precision  0.955\n",
      "   Recall  0.955\n",
      "       F1  0.955\n",
      "      ROC  0.996\n"
     ]
    }
   ],
   "execution_count": 60
  },
  {
   "metadata": {},
   "cell_type": "markdown",
   "source": "### Дерево решений",
   "id": "6459f282c0922b9c"
  },
  {
   "metadata": {
    "ExecuteTime": {
     "end_time": "2024-12-15T17:28:56.968629Z",
     "start_time": "2024-12-15T17:28:56.947813Z"
    }
   },
   "cell_type": "code",
   "source": [
    "# Обучение модели.\n",
    "dt = DecisionTreeClassifier()\n",
    "dt.fit(x_train, y_train)\n",
    "dt_pred = dt.predict(x_test)"
   ],
   "id": "308c39fceb28f428",
   "outputs": [],
   "execution_count": 61
  },
  {
   "metadata": {
    "ExecuteTime": {
     "end_time": "2024-12-15T17:28:57.052279Z",
     "start_time": "2024-12-15T17:28:56.969637Z"
    }
   },
   "cell_type": "code",
   "source": "metrics(y_test, dt_pred, dt.predict_proba(x_test))",
   "id": "4d4ca18af671bab1",
   "outputs": [
    {
     "data": {
      "text/plain": [
       "<Figure size 640x480 with 1 Axes>"
      ],
      "image/png": "[encoded data removed]"
     },
     "metadata": {},
     "output_type": "display_data"
    },
    {
     "name": "stdout",
     "output_type": "stream",
     "text": [
      "   Metric  Score\n",
      " Accuracy  0.830\n",
      "Precision  0.829\n",
      "   Recall  0.830\n",
      "       F1  0.829\n",
      "      ROC  0.887\n"
     ]
    }
   ],
   "execution_count": 62
  },
  {
   "metadata": {},
   "cell_type": "markdown",
   "source": [
    "### Выводы\n",
    "\n",
    "| Метрика   | kNN   | Дерево решений |\n",
    "|-----------|-------|----------------|\n",
    "| Accuracy  | 0.955 | 0.830          |\n",
    "| Precision | 0.955 | 0.831          |\n",
    "| Recall    | 0.955 | 0.830          |\n",
    "| F1        | 0.955 | 0.830          |\n",
    "| ROC       | 0.996 | 0.887          |\n",
    "\n",
    "Оба метода показали высокие результаты для сбалансированного набора данных. Причём kNN оказался лучше на 10-12 пунктов по всем параметрам - классическое дерево решений работает наилучшим образом с бинарными метками, а в наборе 4 категории."
   ],
   "id": "9015e18c61e83c67"
  }
 ],
 "metadata": {
  "kernelspec": {
   "display_name": "Python 3",
   "language": "python",
   "name": "python3"
  },
  "language_info": {
   "codemirror_mode": {
    "name": "ipython",
    "version": 2
   },
   "file_extension": ".py",
   "mimetype": "text/x-python",
   "name": "python",
   "nbconvert_exporter": "python",
   "pygments_lexer": "ipython2",
   "version": "2.7.6"
  }
 },
 "nbformat": 4,
 "nbformat_minor": 5
}
